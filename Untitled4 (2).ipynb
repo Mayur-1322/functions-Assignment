{
  "nbformat": 4,
  "nbformat_minor": 0,
  "metadata": {
    "colab": {
      "provenance": []
    },
    "kernelspec": {
      "name": "python3",
      "display_name": "Python 3"
    },
    "language_info": {
      "name": "python"
    }
  },
  "cells": [
    {
      "cell_type": "markdown",
      "source": [
        "ASSIGNMENT NO :- 4 ( FUNCTIONS)\n",
        "\n",
        "\n",
        "\n",
        "\n",
        "\n"
      ],
      "metadata": {
        "id": "XBZTgjvx5dMb"
      }
    },
    {
      "cell_type": "markdown",
      "source": [
        "THEORY QUESTIONS :-"
      ],
      "metadata": {
        "id": "ZwQ6IHgv6gNB"
      }
    },
    {
      "cell_type": "markdown",
      "source": [
        "1. What is the difference between a function and a method in Python? give one example.\n",
        "\n",
        "Function:\n",
        "\n",
        "A function is a block of code that can be called independently.\n",
        "It is defined using the def keyword.\n",
        "Functions are not bound to any specific object and can be used anywhere in the code.\n",
        "\n",
        "Method:\n",
        "\n",
        "A method is a function that is associated with an object and is called on that object.\n",
        "Methods are defined within a class and usually operate on the data within that class.\n",
        "A method always takes at least one argument, self, which refers to the object calling the method.\n"
      ],
      "metadata": {
        "id": "gAGohONzd0Js"
      }
    },
    {
      "cell_type": "code",
      "source": [
        "# Function example\n",
        "def greet(name):\n",
        "    return f\"Hello, {name}!\"\n",
        "\n",
        "print(greet(\"mayur\"))  # Function call\n",
        "\n",
        "# Method example\n",
        "class Greeter:\n",
        "    def __init__(self, name):\n",
        "        self.name = name\n",
        "\n",
        "    def greet(self):\n",
        "        return f\"Hello, {self.name}!\"\n",
        "\n",
        "greeter = Greeter(\"virat\")\n",
        "print(greeter.greet())  # Method call\n"
      ],
      "metadata": {
        "colab": {
          "base_uri": "https://localhost:8080/"
        },
        "id": "C7XthotVeHhb",
        "outputId": "43daa169-f693-4a72-93f3-fa36cc4c31f2"
      },
      "execution_count": null,
      "outputs": [
        {
          "output_type": "stream",
          "name": "stdout",
          "text": [
            "Hello, mayur!\n",
            "Hello, virat!\n"
          ]
        }
      ]
    },
    {
      "cell_type": "markdown",
      "source": [
        "2. Explain the concept of function arguments and parameters in Python? give one example\n",
        "\n",
        " Parameters:\n",
        "\n",
        "These are the variables defined in the function signature.\n",
        "They act as placeholders that accept values when the function is called.\n",
        "\n",
        "Arguments:\n",
        "\n",
        "These are the actual values or expressions that you pass to the function when calling it.\n",
        "They fill in the function's parameters when the function is invoked\n",
        "\n",
        "Types of Function Arguments:\n",
        "\n",
        "Positional Arguments: Arguments passed in the order in which parameters are defined.\n",
        "Keyword Arguments: Arguments passed by explicitly specifying the parameter name.\n",
        "Default Arguments: Parameters that have a default value and can be omitted when calling the function."
      ],
      "metadata": {
        "id": "8wMUqnWlem2K"
      }
    },
    {
      "cell_type": "code",
      "source": [
        "# Defining the function with parameters\n",
        "def add_numbers(a, b):  # 'a' and 'b' are parameters\n",
        "    return a + b\n",
        "\n",
        "# Calling the function with arguments\n",
        "result = add_numbers(5, 3)  # '5' and '3' are arguments\n",
        "print(result)\n"
      ],
      "metadata": {
        "colab": {
          "base_uri": "https://localhost:8080/"
        },
        "id": "0kgWUZHbfCQb",
        "outputId": "ea85aa53-6aaa-4f73-b604-775804f60a87"
      },
      "execution_count": null,
      "outputs": [
        {
          "output_type": "stream",
          "name": "stdout",
          "text": [
            "8\n"
          ]
        }
      ]
    },
    {
      "cell_type": "markdown",
      "source": [
        "3.What are the different ways to define and call a function in Python? give one example.\n",
        "\n",
        "\n",
        "\n",
        "1. Simple Function Definition and Call:\n",
        "This is the most basic way to define a function using the def keyword and calling it by its name."
      ],
      "metadata": {
        "id": "ZAqCImfifvZS"
      }
    },
    {
      "cell_type": "code",
      "source": [
        "def greet():\n",
        "    print(\"mayur!\")\n",
        "\n",
        "# Function call\n",
        "greet()\n"
      ],
      "metadata": {
        "colab": {
          "base_uri": "https://localhost:8080/"
        },
        "id": "msHALEgAf_LK",
        "outputId": "b396bbe5-0a4b-4083-c71c-fc67b976b391"
      },
      "execution_count": 42,
      "outputs": [
        {
          "output_type": "stream",
          "name": "stdout",
          "text": [
            "mayur!\n"
          ]
        }
      ]
    },
    {
      "cell_type": "markdown",
      "source": [
        "2. Function with Parameters:\n",
        "A function can accept input values, called parameters, to perform tasks using those inputs."
      ],
      "metadata": {
        "id": "lYCgXES0gWJ6"
      }
    },
    {
      "cell_type": "code",
      "source": [
        "def greet(name):\n",
        "    print(f\"Hello, {name}!\")\n",
        "\n",
        "# Function call with an argument\n",
        "greet(\"mayur\")\n"
      ],
      "metadata": {
        "colab": {
          "base_uri": "https://localhost:8080/"
        },
        "id": "twoQureJgX35",
        "outputId": "f2703871-f54d-4c56-edca-440d4897585e"
      },
      "execution_count": null,
      "outputs": [
        {
          "output_type": "stream",
          "name": "stdout",
          "text": [
            "Hello, mayur!\n"
          ]
        }
      ]
    },
    {
      "cell_type": "markdown",
      "source": [
        "3. Function with Return Value:\n",
        "A function can return a value using the return statement, which can then be used in the calling code."
      ],
      "metadata": {
        "id": "qhS1QDbngpnB"
      }
    },
    {
      "cell_type": "code",
      "source": [
        "def add(a, b):\n",
        "    return a + b\n",
        "\n",
        "# Function call and storing the return value\n",
        "result = add(5, 3)\n",
        "print(result)\n"
      ],
      "metadata": {
        "colab": {
          "base_uri": "https://localhost:8080/"
        },
        "id": "Ni916RorgxR7",
        "outputId": "03e2c86d-88a2-4aef-b433-bf5c4fa74367"
      },
      "execution_count": null,
      "outputs": [
        {
          "output_type": "stream",
          "name": "stdout",
          "text": [
            "8\n"
          ]
        }
      ]
    },
    {
      "cell_type": "markdown",
      "source": [
        "4. Keyword Arguments:\n",
        "In function calls, you can explicitly specify which parameter gets which value using keyword arguments."
      ],
      "metadata": {
        "id": "YqwyKH7thBM5"
      }
    },
    {
      "cell_type": "code",
      "source": [
        "def introduce(name, age):\n",
        "    print(f\"My name is {name} and I am {age} years old.\")\n",
        "\n",
        "# Function call with keyword arguments\n",
        "introduce(age=19, name=\"mayur\")\n"
      ],
      "metadata": {
        "colab": {
          "base_uri": "https://localhost:8080/"
        },
        "id": "amAWWDxnhOX9",
        "outputId": "4c45453a-8b72-47e0-abfd-51dd26d41b34"
      },
      "execution_count": null,
      "outputs": [
        {
          "output_type": "stream",
          "name": "stdout",
          "text": [
            "My name is mayur and I am 19 years old.\n"
          ]
        }
      ]
    },
    {
      "cell_type": "markdown",
      "source": [
        "4. What is the purpose of the `return` statement in a Python function? give one example.\n",
        "\n",
        "Exit the function: When a return statement is encountered, the function terminates immediately, and no further code in the function is executed.\n",
        "\n",
        "Return a value to the caller: The value or result specified in the return statement is sent back to the place where the function was called. This allows the function to pass computed data back to the calling code."
      ],
      "metadata": {
        "id": "n0TNNnYrh195"
      }
    },
    {
      "cell_type": "code",
      "source": [
        "def square(number):\n",
        "    return number * number  # Returns the square of the input number\n",
        "\n",
        "# Calling the function and storing the return value\n",
        "result = square(4)\n",
        "print(result)\n"
      ],
      "metadata": {
        "colab": {
          "base_uri": "https://localhost:8080/"
        },
        "id": "0Yp0cUBViKtD",
        "outputId": "67be9cd9-9a80-4ee7-9ca3-846a9901c492"
      },
      "execution_count": null,
      "outputs": [
        {
          "output_type": "stream",
          "name": "stdout",
          "text": [
            "16\n"
          ]
        }
      ]
    },
    {
      "cell_type": "markdown",
      "source": [
        "5. What are iterators in Python and how do they differ from iterables? give one example.\n",
        "\n",
        "\n",
        " 1. Iterable:\n",
        "An iterable is any Python object capable of returning its members one at a time.\n",
        "\n",
        "It can be iterated over (e.g., using a for loop).\n",
        "\n",
        "It implements the __iter__() method, which returns an iterator.\n",
        "\n",
        "Examples of iterables include lists, tuples, dictionaries, sets, and strings.\n",
        "\n",
        "\n",
        "\n",
        "\n",
        "\n",
        "\n",
        " 2. Iterator:\n",
        "An iterator is an object that represents a stream of data.\n",
        "\n",
        " It is returned by calling the __iter__() method of an iterable.\n",
        "\n",
        "It implements two methods:\n",
        "\n",
        "__iter__() returns the iterator object itself.\n",
        "\n",
        "__next__() returns the next item in the sequence. When there are no more items, it raises the StopIteration exception.\n",
        "\n",
        "Iterators are exhausted after processing all elements, meaning they can’t be reused."
      ],
      "metadata": {
        "id": "b2pr6TGfiZPa"
      }
    },
    {
      "cell_type": "markdown",
      "source": [
        "6. Explain the concept of generators in Python and how they are defined. give one example\n",
        "\n",
        "a generator is a special type of iterator that allows you to iterate over a sequence of values lazily—meaning it generates the values one at a time as needed, rather than storing the entire sequence in memory at once. This makes generators more memory efficient, especially when dealing with large datasets or infinite sequences.\n",
        "\n",
        "Key Characteristics of Generators:\n",
        "\n",
        "\n",
        "Defined using yield:\n",
        "Instead of returning a value with return, a generator function uses yield to produce a value and pause its execution. When yield is encountered, the generator saves its state and later resumes from that point when the next value is requested.\n",
        "\n",
        "Iterators:\n",
        "Generators are a type of iterator. They automatically implement the __iter__() and __next__() methods, so they can be iterated over using a loop or the next() function"
      ],
      "metadata": {
        "id": "8v6do-XxlmXT"
      }
    },
    {
      "cell_type": "code",
      "source": [
        "# Defining a generator function\n",
        "def count_up_to(n):\n",
        "    count = 1\n",
        "    while count <= n:\n",
        "        yield count  # Yield each count value\n",
        "        count += 1\n",
        "\n",
        "# Using the generator\n",
        "counter = count_up_to(5)\n",
        "\n",
        "# Iterating through the generator\n",
        "for number in counter:\n",
        "    print(number)\n"
      ],
      "metadata": {
        "colab": {
          "base_uri": "https://localhost:8080/"
        },
        "id": "EB8BnBfVmxFw",
        "outputId": "85f74313-796f-4127-f0ce-bbd8e24a7035"
      },
      "execution_count": null,
      "outputs": [
        {
          "output_type": "stream",
          "name": "stdout",
          "text": [
            "1\n",
            "2\n",
            "3\n",
            "4\n",
            "5\n"
          ]
        }
      ]
    },
    {
      "cell_type": "markdown",
      "source": [
        "7. What are the advantages of using generators over regular functions? give one example\n",
        "\n",
        "\n",
        "1. Memory Efficiency\n",
        "Generators produce values one at a time, without storing the entire sequence in memory. This is particularly useful for large datasets or when processing streams of data that cannot fit into memory at once.\n",
        "2. Lazy Evaluation\n",
        "Generators allow for \"lazy\" generation of values. They only compute the next value when requested, which can be more efficient in terms of both time and memory, especially when dealing with infinite sequences or computationally expensive operations.\n",
        "3. Improved Performance with Large Data\n",
        "Generators reduce the overhead of memory allocation and computation by avoiding the need to construct large data structures. This can lead to performance improvements when dealing with large or infinite data sequences.\n",
        "4. State Preservation\n",
        "Generators automatically preserve their state between iterations. This makes them useful for tasks that require maintaining complex internal states, such as reading from a file or generating a sequence of numbers."
      ],
      "metadata": {
        "id": "01wU8VQWm7xi"
      }
    },
    {
      "cell_type": "markdown",
      "source": [
        "Generator Example:"
      ],
      "metadata": {
        "id": "_qH3ueSxn2_U"
      }
    },
    {
      "cell_type": "code",
      "source": [
        "def generate_numbers(limit):\n",
        "    num = 1\n",
        "    while num <= limit:\n",
        "        yield num  # Produces one number at a time\n",
        "        num += 1\n",
        "\n",
        "# Using the generator to iterate through numbers\n",
        "for number in generate_numbers(10):\n",
        "    print(number)\n"
      ],
      "metadata": {
        "colab": {
          "base_uri": "https://localhost:8080/"
        },
        "id": "ue4MZ0CgnfXI",
        "outputId": "c6f25412-2353-4201-da78-b507d9fa88dd"
      },
      "execution_count": null,
      "outputs": [
        {
          "output_type": "stream",
          "name": "stdout",
          "text": [
            "1\n",
            "2\n",
            "3\n",
            "4\n",
            "5\n",
            "6\n",
            "7\n",
            "8\n",
            "9\n",
            "10\n"
          ]
        }
      ]
    },
    {
      "cell_type": "markdown",
      "source": [
        "Regular Function Example:"
      ],
      "metadata": {
        "id": "6HOgfXrhn5DT"
      }
    },
    {
      "cell_type": "code",
      "source": [
        "def generate_numbers_list(limit):\n",
        "    numbers = []\n",
        "    for num in range(1, limit + 1):\n",
        "        numbers.append(num)\n",
        "    return numbers\n",
        "\n",
        "# Calling the function\n",
        "numbers = generate_numbers_list(10)\n",
        "for number in numbers:\n",
        "    print(number)\n"
      ],
      "metadata": {
        "colab": {
          "base_uri": "https://localhost:8080/"
        },
        "id": "hrJAV9YCnxYp",
        "outputId": "d0748dbb-0ce8-45ca-f84f-715d18418b78"
      },
      "execution_count": null,
      "outputs": [
        {
          "output_type": "stream",
          "name": "stdout",
          "text": [
            "1\n",
            "2\n",
            "3\n",
            "4\n",
            "5\n",
            "6\n",
            "7\n",
            "8\n",
            "9\n",
            "10\n"
          ]
        }
      ]
    },
    {
      "cell_type": "markdown",
      "source": [
        "8. What is a lambda function in Python and when is it typically used? give one example.\n",
        "\n",
        "A lambda function in Python is a small, anonymous function defined using the lambda keyword. Unlike regular functions that are defined using def, a lambda function can have any number of parameters but only a single expression. The result of the expression is automatically returned.\n",
        "\n",
        "When Are Lambda Functions Typically Used?\n",
        "\n",
        "Short, Simple Functions: Lambda functions are often used when you need a small function for a short period of time, typically as an argument to higher-order functions like map(), filter(), or sorted().\n",
        "\n",
        "Inline Use: Lambda functions are useful when defining a function inline, rather than formally defining it with def, especially if the function is only going to be used once.\n",
        "\n",
        "Avoiding Defining Separate Functions: In situations where a full function definition might be overkill, such as callbacks or small computations.\n"
      ],
      "metadata": {
        "id": "3uay0-cboR4a"
      }
    },
    {
      "cell_type": "code",
      "source": [
        "# Lambda function to add two numbers\n",
        "add = lambda x, y: x + y\n",
        "\n",
        "# Using the lambda function\n",
        "result = add(5, 3)\n",
        "print(result)\n"
      ],
      "metadata": {
        "colab": {
          "base_uri": "https://localhost:8080/"
        },
        "id": "P6IKaTgcpl--",
        "outputId": "9f2e92f8-c1e3-4b87-cf91-9f2aa5503839"
      },
      "execution_count": null,
      "outputs": [
        {
          "output_type": "stream",
          "name": "stdout",
          "text": [
            "8\n"
          ]
        }
      ]
    },
    {
      "cell_type": "markdown",
      "source": [
        "9. Explain the purpose and usage of the `map()` function in Python.give one example\n",
        "\n",
        "Purpose of map():\n",
        "Transformation: To apply a transformation function to each element of an iterable.\n",
        "Functional Programming: To achieve a functional programming style, where functions are applied to data without explicitly using loops.\n",
        "\n",
        "\n",
        "Usage:\n",
        "Transformation: Applying a function to each element in a list.\n",
        "Combining Multiple Iterables: Applying a function that takes multiple arguments, with each argument coming from a different iterable.v"
      ],
      "metadata": {
        "id": "tzCYUjeppv_F"
      }
    },
    {
      "cell_type": "code",
      "source": [
        "# Use map() with a lambda function to square each number\n",
        "numbers = [1, 2, 3, 4, 5]\n",
        "squared_numbers = map(lambda x: x ** 2, numbers)\n",
        "\n",
        "# Convert the map object to a list and print the result\n",
        "print(list(squared_numbers))\n"
      ],
      "metadata": {
        "colab": {
          "base_uri": "https://localhost:8080/"
        },
        "id": "q1mXPoporQPx",
        "outputId": "8b41ea70-fbe7-4717-a6b4-17e2a7e74e97"
      },
      "execution_count": null,
      "outputs": [
        {
          "output_type": "stream",
          "name": "stdout",
          "text": [
            "[1, 4, 9, 16, 25]\n"
          ]
        }
      ]
    },
    {
      "cell_type": "markdown",
      "source": [
        "10. What is the difference between `map()`, `reduce()`, and `filter()` functions in Python? give one example\n",
        "\n",
        "   1. map()\n",
        "Purpose: Applies a given function to each item of an iterable and returns an iterator of the results.\n",
        "Usage: Transform each element of an iterable"
      ],
      "metadata": {
        "id": "hi96KJWFro-k"
      }
    },
    {
      "cell_type": "code",
      "source": [
        "# Define a function to square a number\n",
        "def square(number):\n",
        "    return number ** 2\n",
        "\n",
        "numbers = [1, 2, 3, 4, 5]\n",
        "\n",
        "# Use map() to apply the square function to each number\n",
        "squared_numbers = map(square, numbers)\n",
        "\n",
        "# Convert the map object to a list and print the result\n",
        "print(list(squared_numbers))\n"
      ],
      "metadata": {
        "colab": {
          "base_uri": "https://localhost:8080/"
        },
        "id": "-78NSAE6sWAl",
        "outputId": "d6dc3fd9-b545-4a6c-f448-4689adcb72f6"
      },
      "execution_count": null,
      "outputs": [
        {
          "output_type": "stream",
          "name": "stdout",
          "text": [
            "[1, 4, 9, 16, 25]\n"
          ]
        }
      ]
    },
    {
      "cell_type": "markdown",
      "source": [
        "2. reduce()\n",
        "Purpose: Applies a binary function (a function that takes two arguments) cumulatively to the items of an iterable, from left to right, to reduce the iterable to a single value.\n",
        "Usage: Perform an aggregation or reduction operation over an iterable."
      ],
      "metadata": {
        "id": "kWfUnIk_sglx"
      }
    },
    {
      "cell_type": "code",
      "source": [
        "from functools import reduce\n",
        "\n",
        "# Define a function to sum two numbers\n",
        "def add(x, y):\n",
        "    return x + y\n",
        "\n",
        "numbers = [1, 2, 3, 4, 5]\n",
        "\n",
        "# Use reduce() to apply the add function cumulatively\n",
        "sum_result = reduce(add, numbers)\n",
        "\n",
        "print(sum_result)\n"
      ],
      "metadata": {
        "colab": {
          "base_uri": "https://localhost:8080/"
        },
        "id": "KHgH4QVWskcN",
        "outputId": "f10cfda3-35b3-4e5a-8624-f4e88e51a955"
      },
      "execution_count": null,
      "outputs": [
        {
          "output_type": "stream",
          "name": "stdout",
          "text": [
            "15\n"
          ]
        }
      ]
    },
    {
      "cell_type": "markdown",
      "source": [
        "3. filter()\n",
        "Purpose: Applies a given function to each item of an iterable and returns an iterator with only those items for which the function returns True.\n",
        "Usage: Filter elements of an iterable based on a condition."
      ],
      "metadata": {
        "id": "rgFnSzofsrre"
      }
    },
    {
      "cell_type": "code",
      "source": [
        "# Define a function to check if a number is even\n",
        "def is_even(number):\n",
        "    return number % 2 == 0\n",
        "\n",
        "numbers = [1, 2, 3, 4, 5]\n",
        "\n",
        "# Use filter() to keep only the even numbers\n",
        "even_numbers = filter(is_even, numbers)\n",
        "\n",
        "# Convert the filter object to a list and print the result\n",
        "print(list(even_numbers))\n"
      ],
      "metadata": {
        "colab": {
          "base_uri": "https://localhost:8080/"
        },
        "id": "cXITUwtCswHd",
        "outputId": "d6a245a9-797a-40b5-d219-b0ddea7052f5"
      },
      "execution_count": null,
      "outputs": [
        {
          "output_type": "stream",
          "name": "stdout",
          "text": [
            "[2, 4]\n"
          ]
        }
      ]
    },
    {
      "cell_type": "markdown",
      "source": [
        " 11.Using pen & Paper write the internal mechanism for sum operation using  reduce function on this given\n",
        "list:[47,11,42,13];\n"
      ],
      "metadata": {
        "id": "NsUthyiNtjtj"
      }
    },
    {
      "cell_type": "code",
      "source": [
        "from google.colab import files\n",
        "from IPython.display import Image, display\n",
        "\n",
        "# Upload the image\n",
        "uploaded = files.upload()\n",
        "\n",
        "# Display the image\n",
        "for function in uploaded.keys():\n",
        "    display(Image(filename=filename))\n"
      ],
      "metadata": {
        "colab": {
          "base_uri": "https://localhost:8080/",
          "height": 1000
        },
        "id": "OMLqmwEJ3qDu",
        "outputId": "c84f2909-b0ac-4863-fdb0-0d349222979b"
      },
      "execution_count": null,
      "outputs": [
        {
          "output_type": "display_data",
          "data": {
            "text/plain": [
              "<IPython.core.display.HTML object>"
            ],
            "text/html": [
              "\n",
              "     <input type=\"file\" id=\"files-aca7199f-a779-43d3-b96f-cb746b706f08\" name=\"files[]\" multiple disabled\n",
              "        style=\"border:none\" />\n",
              "     <output id=\"result-aca7199f-a779-43d3-b96f-cb746b706f08\">\n",
              "      Upload widget is only available when the cell has been executed in the\n",
              "      current browser session. Please rerun this cell to enable.\n",
              "      </output>\n",
              "      <script>// Copyright 2017 Google LLC\n",
              "//\n",
              "// Licensed under the Apache License, Version 2.0 (the \"License\");\n",
              "// you may not use this file except in compliance with the License.\n",
              "// You may obtain a copy of the License at\n",
              "//\n",
              "//      http://www.apache.org/licenses/LICENSE-2.0\n",
              "//\n",
              "// Unless required by applicable law or agreed to in writing, software\n",
              "// distributed under the License is distributed on an \"AS IS\" BASIS,\n",
              "// WITHOUT WARRANTIES OR CONDITIONS OF ANY KIND, either express or implied.\n",
              "// See the License for the specific language governing permissions and\n",
              "// limitations under the License.\n",
              "\n",
              "/**\n",
              " * @fileoverview Helpers for google.colab Python module.\n",
              " */\n",
              "(function(scope) {\n",
              "function span(text, styleAttributes = {}) {\n",
              "  const element = document.createElement('span');\n",
              "  element.textContent = text;\n",
              "  for (const key of Object.keys(styleAttributes)) {\n",
              "    element.style[key] = styleAttributes[key];\n",
              "  }\n",
              "  return element;\n",
              "}\n",
              "\n",
              "// Max number of bytes which will be uploaded at a time.\n",
              "const MAX_PAYLOAD_SIZE = 100 * 1024;\n",
              "\n",
              "function _uploadFiles(inputId, outputId) {\n",
              "  const steps = uploadFilesStep(inputId, outputId);\n",
              "  const outputElement = document.getElementById(outputId);\n",
              "  // Cache steps on the outputElement to make it available for the next call\n",
              "  // to uploadFilesContinue from Python.\n",
              "  outputElement.steps = steps;\n",
              "\n",
              "  return _uploadFilesContinue(outputId);\n",
              "}\n",
              "\n",
              "// This is roughly an async generator (not supported in the browser yet),\n",
              "// where there are multiple asynchronous steps and the Python side is going\n",
              "// to poll for completion of each step.\n",
              "// This uses a Promise to block the python side on completion of each step,\n",
              "// then passes the result of the previous step as the input to the next step.\n",
              "function _uploadFilesContinue(outputId) {\n",
              "  const outputElement = document.getElementById(outputId);\n",
              "  const steps = outputElement.steps;\n",
              "\n",
              "  const next = steps.next(outputElement.lastPromiseValue);\n",
              "  return Promise.resolve(next.value.promise).then((value) => {\n",
              "    // Cache the last promise value to make it available to the next\n",
              "    // step of the generator.\n",
              "    outputElement.lastPromiseValue = value;\n",
              "    return next.value.response;\n",
              "  });\n",
              "}\n",
              "\n",
              "/**\n",
              " * Generator function which is called between each async step of the upload\n",
              " * process.\n",
              " * @param {string} inputId Element ID of the input file picker element.\n",
              " * @param {string} outputId Element ID of the output display.\n",
              " * @return {!Iterable<!Object>} Iterable of next steps.\n",
              " */\n",
              "function* uploadFilesStep(inputId, outputId) {\n",
              "  const inputElement = document.getElementById(inputId);\n",
              "  inputElement.disabled = false;\n",
              "\n",
              "  const outputElement = document.getElementById(outputId);\n",
              "  outputElement.innerHTML = '';\n",
              "\n",
              "  const pickedPromise = new Promise((resolve) => {\n",
              "    inputElement.addEventListener('change', (e) => {\n",
              "      resolve(e.target.files);\n",
              "    });\n",
              "  });\n",
              "\n",
              "  const cancel = document.createElement('button');\n",
              "  inputElement.parentElement.appendChild(cancel);\n",
              "  cancel.textContent = 'Cancel upload';\n",
              "  const cancelPromise = new Promise((resolve) => {\n",
              "    cancel.onclick = () => {\n",
              "      resolve(null);\n",
              "    };\n",
              "  });\n",
              "\n",
              "  // Wait for the user to pick the files.\n",
              "  const files = yield {\n",
              "    promise: Promise.race([pickedPromise, cancelPromise]),\n",
              "    response: {\n",
              "      action: 'starting',\n",
              "    }\n",
              "  };\n",
              "\n",
              "  cancel.remove();\n",
              "\n",
              "  // Disable the input element since further picks are not allowed.\n",
              "  inputElement.disabled = true;\n",
              "\n",
              "  if (!files) {\n",
              "    return {\n",
              "      response: {\n",
              "        action: 'complete',\n",
              "      }\n",
              "    };\n",
              "  }\n",
              "\n",
              "  for (const file of files) {\n",
              "    const li = document.createElement('li');\n",
              "    li.append(span(file.name, {fontWeight: 'bold'}));\n",
              "    li.append(span(\n",
              "        `(${file.type || 'n/a'}) - ${file.size} bytes, ` +\n",
              "        `last modified: ${\n",
              "            file.lastModifiedDate ? file.lastModifiedDate.toLocaleDateString() :\n",
              "                                    'n/a'} - `));\n",
              "    const percent = span('0% done');\n",
              "    li.appendChild(percent);\n",
              "\n",
              "    outputElement.appendChild(li);\n",
              "\n",
              "    const fileDataPromise = new Promise((resolve) => {\n",
              "      const reader = new FileReader();\n",
              "      reader.onload = (e) => {\n",
              "        resolve(e.target.result);\n",
              "      };\n",
              "      reader.readAsArrayBuffer(file);\n",
              "    });\n",
              "    // Wait for the data to be ready.\n",
              "    let fileData = yield {\n",
              "      promise: fileDataPromise,\n",
              "      response: {\n",
              "        action: 'continue',\n",
              "      }\n",
              "    };\n",
              "\n",
              "    // Use a chunked sending to avoid message size limits. See b/62115660.\n",
              "    let position = 0;\n",
              "    do {\n",
              "      const length = Math.min(fileData.byteLength - position, MAX_PAYLOAD_SIZE);\n",
              "      const chunk = new Uint8Array(fileData, position, length);\n",
              "      position += length;\n",
              "\n",
              "      const base64 = btoa(String.fromCharCode.apply(null, chunk));\n",
              "      yield {\n",
              "        response: {\n",
              "          action: 'append',\n",
              "          file: file.name,\n",
              "          data: base64,\n",
              "        },\n",
              "      };\n",
              "\n",
              "      let percentDone = fileData.byteLength === 0 ?\n",
              "          100 :\n",
              "          Math.round((position / fileData.byteLength) * 100);\n",
              "      percent.textContent = `${percentDone}% done`;\n",
              "\n",
              "    } while (position < fileData.byteLength);\n",
              "  }\n",
              "\n",
              "  // All done.\n",
              "  yield {\n",
              "    response: {\n",
              "      action: 'complete',\n",
              "    }\n",
              "  };\n",
              "}\n",
              "\n",
              "scope.google = scope.google || {};\n",
              "scope.google.colab = scope.google.colab || {};\n",
              "scope.google.colab._files = {\n",
              "  _uploadFiles,\n",
              "  _uploadFilesContinue,\n",
              "};\n",
              "})(self);\n",
              "</script> "
            ]
          },
          "metadata": {}
        },
        {
          "output_type": "stream",
          "name": "stdout",
          "text": [
            "Saving module 4 function 11 no question solution.jpeg to module 4 function 11 no question solution (2).jpeg\n"
          ]
        },
        {
          "output_type": "display_data",
          "data": {
            "image/jpeg": "[encoded data removed]",
            "text/plain": [
              "<IPython.core.display.Image object>"
            ]
          },
          "metadata": {}
        }
      ]
    },
    {
      "cell_type": "markdown",
      "source": [
        "PRACTICAL QUESTIONS :-"
      ],
      "metadata": {
        "id": "foHqYiaS4o24"
      }
    },
    {
      "cell_type": "markdown",
      "source": [
        "1. Write a Python function that takes a list of numbers as input and returns the sum of all even numbers in\n",
        "the list"
      ],
      "metadata": {
        "id": "mO0bmUaK6r9R"
      }
    },
    {
      "cell_type": "code",
      "source": [
        "def sum_of_evens(numbers):\n",
        "    \"\"\"\n",
        "    Returns the sum of all even numbers in the given list.\n",
        "\n",
        "    Parameters:\n",
        "    numbers (list): A list of integers.\n",
        "\n",
        "    Returns:\n",
        "    int: The sum of all even numbers in the list.\n",
        "    \"\"\"\n",
        "    # Initialize the sum to 0\n",
        "    total = 0\n",
        "\n",
        "    # Iterate over each number in the list\n",
        "    for number in numbers:\n",
        "        # Check if the number is even\n",
        "        if number % 2 == 0:\n",
        "            # Add the even number to the total\n",
        "            total += number\n",
        "\n",
        "    return total\n",
        "\n",
        "# Example usage\n",
        "numbers = [1, 2, 3, 4, 5, 6]\n",
        "result = sum_of_evens(numbers)\n",
        "print(\"Sum of even numbers:\", result)\n"
      ],
      "metadata": {
        "colab": {
          "base_uri": "https://localhost:8080/"
        },
        "id": "eWCy30Tc63Bx",
        "outputId": "91b16589-036f-4432-9b96-3336b91f6c92"
      },
      "execution_count": 30,
      "outputs": [
        {
          "output_type": "stream",
          "name": "stdout",
          "text": [
            "Sum of even numbers: 12\n"
          ]
        }
      ]
    },
    {
      "cell_type": "markdown",
      "source": [
        "2. Create a Python function that accepts a string and returns the reverse of that string.\n",
        "\n",
        "\n"
      ],
      "metadata": {
        "id": "TlampX8i6_x_"
      }
    },
    {
      "cell_type": "code",
      "source": [
        "def reverse_string(s):\n",
        "    \"\"\"\n",
        "    Returns the reverse of the given string.\n",
        "\n",
        "    Parameters:\n",
        "    s (str): The input string.\n",
        "\n",
        "    Returns:\n",
        "    str: The reversed string.\n",
        "    \"\"\"\n",
        "    # Return the reversed string using slicing\n",
        "    return s[::-1]\n",
        "\n",
        "# Example usage\n",
        "input_string = \"mayur\"\n",
        "reversed_string = reverse_string(input_string)\n",
        "print(\"Reversed string:\", reversed_string)\n"
      ],
      "metadata": {
        "colab": {
          "base_uri": "https://localhost:8080/"
        },
        "id": "LUPMLrlL7FPa",
        "outputId": "a084786c-710a-4340-a24a-e4901f7b615c"
      },
      "execution_count": 31,
      "outputs": [
        {
          "output_type": "stream",
          "name": "stdout",
          "text": [
            "Reversed string: ruyam\n"
          ]
        }
      ]
    },
    {
      "cell_type": "markdown",
      "source": [
        "3. Implement a Python function that takes a list of integers and returns a new list containing the squares of\n",
        "each number."
      ],
      "metadata": {
        "id": "_dQxDNQi7NkQ"
      }
    },
    {
      "cell_type": "code",
      "source": [
        "def square_numbers(numbers):\n",
        "    \"\"\"\n",
        "    Returns a new list containing the squares of each number in the given list.\n",
        "\n",
        "    Parameters:\n",
        "    numbers (list): A list of integers.\n",
        "\n",
        "    Returns:\n",
        "    list: A list of squared integers.\n",
        "    \"\"\"\n",
        "    # Use a list comprehension to create a new list with the squares of the numbers\n",
        "    return [number ** 2 for number in numbers]\n",
        "\n",
        "# Example usage\n",
        "input_list = [1, 2, 3, 4, 5]\n",
        "squared_list = square_numbers(input_list)\n",
        "print(\"Squared list:\", squared_list)\n"
      ],
      "metadata": {
        "colab": {
          "base_uri": "https://localhost:8080/"
        },
        "id": "fm2OJECR7TBh",
        "outputId": "ae050cb7-2f19-423e-baac-ce67cf9dd15f"
      },
      "execution_count": 32,
      "outputs": [
        {
          "output_type": "stream",
          "name": "stdout",
          "text": [
            "Squared list: [1, 4, 9, 16, 25]\n"
          ]
        }
      ]
    },
    {
      "cell_type": "markdown",
      "source": [
        "4. Write a Python function that checks if a given number is prime or not from 1 to 200."
      ],
      "metadata": {
        "id": "GCy31G3z7bpQ"
      }
    },
    {
      "cell_type": "code",
      "source": [
        "def is_prime(number):\n",
        "    \"\"\"\n",
        "    Checks if a given number is prime.\n",
        "\n",
        "    Parameters:\n",
        "    number (int): The number to check.\n",
        "\n",
        "    Returns:\n",
        "    bool: True if the number is prime, False otherwise.\n",
        "    \"\"\"\n",
        "    # Check if the number is within the valid range\n",
        "    if number < 1 or number > 200:\n",
        "        raise ValueError(\"Number must be between 1 and 200\")\n",
        "\n",
        "    # Special cases\n",
        "    if number <= 1:\n",
        "        return False\n",
        "    if number <= 3:\n",
        "        return True\n",
        "    if number % 2 == 0 or number % 3 == 0:\n",
        "        return False\n",
        "\n",
        "    # Check for factors from 5 to sqrt(number)\n",
        "    i = 5\n",
        "    while i * i <= number:\n",
        "        if number % i == 0 or number % (i + 2) == 0:\n",
        "            return False\n",
        "        i += 6\n",
        "\n",
        "    return True\n",
        "\n",
        "# Example usage\n",
        "test_number = 29\n",
        "result = is_prime(test_number)\n",
        "print(f\"Is {test_number} a prime number? {result}\")\n"
      ],
      "metadata": {
        "colab": {
          "base_uri": "https://localhost:8080/"
        },
        "id": "doekoEM-7jx2",
        "outputId": "5c41c789-59f2-4c56-f746-dadb60eba5fe"
      },
      "execution_count": 33,
      "outputs": [
        {
          "output_type": "stream",
          "name": "stdout",
          "text": [
            "Is 29 a prime number? True\n"
          ]
        }
      ]
    },
    {
      "cell_type": "markdown",
      "source": [
        "5. Create an iterator class in Python that generates the Fibonacci sequence up to a specified number of\n",
        "terms."
      ],
      "metadata": {
        "id": "2MHA1RIn7qbX"
      }
    },
    {
      "cell_type": "code",
      "source": [
        "class FibonacciIterator:\n",
        "    def __init__(self, terms):\n",
        "        \"\"\"\n",
        "        Initialize the iterator with the number of terms to generate.\n",
        "\n",
        "        Parameters:\n",
        "        terms (int): The number of Fibonacci terms to generate.\n",
        "        \"\"\"\n",
        "        self.terms = terms\n",
        "        self.current = 0\n",
        "        self.a, self.b = 0, 1\n",
        "\n",
        "    def __iter__(self):\n",
        "        \"\"\"\n",
        "        Return the iterator object itself.\n",
        "        \"\"\"\n",
        "        return self\n",
        "\n",
        "    def __next__(self):\n",
        "        \"\"\"\n",
        "        Return the next Fibonacci number in the sequence.\n",
        "        \"\"\"\n",
        "        if self.current >= self.terms:\n",
        "            raise StopIteration\n",
        "\n",
        "        # Generate the next Fibonacci number\n",
        "        next_value = self.a\n",
        "        self.a, self.b = self.b, self.a + self.b\n",
        "        self.current += 1\n",
        "\n",
        "        return next_value\n",
        "\n",
        "# Example usage\n",
        "fibonacci = FibonacciIterator(10)\n",
        "for number in fibonacci:\n",
        "    print(number)\n"
      ],
      "metadata": {
        "colab": {
          "base_uri": "https://localhost:8080/"
        },
        "id": "Zt-DANI77xP_",
        "outputId": "cd8212cf-920a-4fca-f6c0-8c34546fd13a"
      },
      "execution_count": 34,
      "outputs": [
        {
          "output_type": "stream",
          "name": "stdout",
          "text": [
            "0\n",
            "1\n",
            "1\n",
            "2\n",
            "3\n",
            "5\n",
            "8\n",
            "13\n",
            "21\n",
            "34\n"
          ]
        }
      ]
    },
    {
      "cell_type": "markdown",
      "source": [
        "6. Write a generator function in Python that yields the powers of 2 up to a given exponent.\n",
        "\n"
      ],
      "metadata": {
        "id": "kErCnAVA78fI"
      }
    },
    {
      "cell_type": "code",
      "source": [
        "def powers_of_two(max_exponent):\n",
        "    \"\"\"\n",
        "    A generator function that yields powers of 2 up to a given exponent.\n",
        "\n",
        "    Parameters:\n",
        "    max_exponent (int): The maximum exponent to generate powers of 2.\n",
        "    \"\"\"\n",
        "    # Iterate over the range of exponents from 0 to max_exponent\n",
        "    for exponent in range(max_exponent + 1):\n",
        "        yield 2 ** exponent\n",
        "\n",
        "# Example usage\n",
        "max_exp = 5\n",
        "for power in powers_of_two(max_exp):\n",
        "    print(power)\n"
      ],
      "metadata": {
        "colab": {
          "base_uri": "https://localhost:8080/"
        },
        "id": "Ri9SS22z8C9Y",
        "outputId": "da064418-bb39-43eb-98f1-0d7954737301"
      },
      "execution_count": 35,
      "outputs": [
        {
          "output_type": "stream",
          "name": "stdout",
          "text": [
            "1\n",
            "2\n",
            "4\n",
            "8\n",
            "16\n",
            "32\n"
          ]
        }
      ]
    },
    {
      "cell_type": "markdown",
      "source": [
        "7. Implement a generator function that reads a file line by line and yields each line as a string."
      ],
      "metadata": {
        "id": "X2b-By-c8MTe"
      }
    },
    {
      "cell_type": "code",
      "source": [
        "def read_lines(file_path):\n",
        "    \"\"\"\n",
        "    A generator function that reads a file line by line and yields each line.\n",
        "\n",
        "    Parameters:\n",
        "    file_path (str): The path to the file to read.\n",
        "\n",
        "    Yields:\n",
        "    str: Each line of the file as a string.\n",
        "    \"\"\"\n",
        "    with open(file_path, 'r') as file:\n",
        "        for line in file:\n",
        "            yield line.rstrip('\\n')  # Yield each line, stripping the newline character\n",
        "\n",
        "# Example usage\n",
        "file_path = 'example.txt'  # Replace with your file path\n",
        "for line in read_lines(file_path):\n",
        "    print(line)\n"
      ],
      "metadata": {
        "colab": {
          "base_uri": "https://localhost:8080/",
          "height": 315
        },
        "collapsed": true,
        "id": "atTJejXY8qZu",
        "outputId": "0ce7b91e-af4a-413e-b889-3720b5cff5d2"
      },
      "execution_count": 43,
      "outputs": [
        {
          "output_type": "error",
          "ename": "FileNotFoundError",
          "evalue": "[Errno 2] No such file or directory: 'example.txt'",
          "traceback": [
            "\u001b[0;31m---------------------------------------------------------------------------\u001b[0m",
            "\u001b[0;31mFileNotFoundError\u001b[0m                         Traceback (most recent call last)",
            "\u001b[0;32m<ipython-input-43-441c160d8693>\u001b[0m in \u001b[0;36m<cell line: 17>\u001b[0;34m()\u001b[0m\n\u001b[1;32m     15\u001b[0m \u001b[0;31m# Example usage\u001b[0m\u001b[0;34m\u001b[0m\u001b[0;34m\u001b[0m\u001b[0m\n\u001b[1;32m     16\u001b[0m \u001b[0mfile_path\u001b[0m \u001b[0;34m=\u001b[0m \u001b[0;34m'example.txt'\u001b[0m  \u001b[0;31m# Replace with your file path\u001b[0m\u001b[0;34m\u001b[0m\u001b[0;34m\u001b[0m\u001b[0m\n\u001b[0;32m---> 17\u001b[0;31m \u001b[0;32mfor\u001b[0m \u001b[0mline\u001b[0m \u001b[0;32min\u001b[0m \u001b[0mread_lines\u001b[0m\u001b[0;34m(\u001b[0m\u001b[0mfile_path\u001b[0m\u001b[0;34m)\u001b[0m\u001b[0;34m:\u001b[0m\u001b[0;34m\u001b[0m\u001b[0;34m\u001b[0m\u001b[0m\n\u001b[0m\u001b[1;32m     18\u001b[0m     \u001b[0mprint\u001b[0m\u001b[0;34m(\u001b[0m\u001b[0mline\u001b[0m\u001b[0;34m)\u001b[0m\u001b[0;34m\u001b[0m\u001b[0;34m\u001b[0m\u001b[0m\n",
            "\u001b[0;32m<ipython-input-43-441c160d8693>\u001b[0m in \u001b[0;36mread_lines\u001b[0;34m(file_path)\u001b[0m\n\u001b[1;32m      9\u001b[0m     \u001b[0mstr\u001b[0m\u001b[0;34m:\u001b[0m \u001b[0mEach\u001b[0m \u001b[0mline\u001b[0m \u001b[0mof\u001b[0m \u001b[0mthe\u001b[0m \u001b[0mfile\u001b[0m \u001b[0;32mas\u001b[0m \u001b[0ma\u001b[0m \u001b[0mstring\u001b[0m\u001b[0;34m.\u001b[0m\u001b[0;34m\u001b[0m\u001b[0;34m\u001b[0m\u001b[0m\n\u001b[1;32m     10\u001b[0m     \"\"\"\n\u001b[0;32m---> 11\u001b[0;31m     \u001b[0;32mwith\u001b[0m \u001b[0mopen\u001b[0m\u001b[0;34m(\u001b[0m\u001b[0mfile_path\u001b[0m\u001b[0;34m,\u001b[0m \u001b[0;34m'r'\u001b[0m\u001b[0;34m)\u001b[0m \u001b[0;32mas\u001b[0m \u001b[0mfile\u001b[0m\u001b[0;34m:\u001b[0m\u001b[0;34m\u001b[0m\u001b[0;34m\u001b[0m\u001b[0m\n\u001b[0m\u001b[1;32m     12\u001b[0m         \u001b[0;32mfor\u001b[0m \u001b[0mline\u001b[0m \u001b[0;32min\u001b[0m \u001b[0mfile\u001b[0m\u001b[0;34m:\u001b[0m\u001b[0;34m\u001b[0m\u001b[0;34m\u001b[0m\u001b[0m\n\u001b[1;32m     13\u001b[0m             \u001b[0;32myield\u001b[0m \u001b[0mline\u001b[0m\u001b[0;34m.\u001b[0m\u001b[0mrstrip\u001b[0m\u001b[0;34m(\u001b[0m\u001b[0;34m'\\n'\u001b[0m\u001b[0;34m)\u001b[0m  \u001b[0;31m# Yield each line, stripping the newline character\u001b[0m\u001b[0;34m\u001b[0m\u001b[0;34m\u001b[0m\u001b[0m\n",
            "\u001b[0;31mFileNotFoundError\u001b[0m: [Errno 2] No such file or directory: 'example.txt'"
          ]
        }
      ]
    },
    {
      "cell_type": "markdown",
      "source": [
        "8. Use a lambda function in Python to sort a list of tuples based on the second element of each tuple."
      ],
      "metadata": {
        "id": "VLhwKE7j8dPk"
      }
    },
    {
      "cell_type": "code",
      "source": [
        "# List of tuples\n",
        "tuples_list = [(1, 3), (4, 1), (5, 2), (7, 0)]\n",
        "\n",
        "# Sort using the sorted() function with a lambda function as the key\n",
        "sorted_list = sorted(tuples_list, key=lambda x: x[1])\n",
        "\n",
        "# Alternatively, sort in place using the sort() method\n",
        "# tuples_list.sort(key=lambda x: x[1])\n",
        "\n",
        "print(\"Sorted list based on the second element:\", sorted_list)\n"
      ],
      "metadata": {
        "colab": {
          "base_uri": "https://localhost:8080/"
        },
        "id": "2kZmcwhB8eP8",
        "outputId": "15c379f1-fe39-4acf-9d05-6a5e49bc741c"
      },
      "execution_count": 38,
      "outputs": [
        {
          "output_type": "stream",
          "name": "stdout",
          "text": [
            "Sorted list based on the second element: [(7, 0), (4, 1), (5, 2), (1, 3)]\n"
          ]
        }
      ]
    },
    {
      "cell_type": "markdown",
      "source": [
        "9. Write a Python program that uses `map()` to convert a list of temperatures from Celsius to Fahrenheit"
      ],
      "metadata": {
        "id": "H6CEW4c180ne"
      }
    },
    {
      "cell_type": "code",
      "source": [
        "def celsius_to_fahrenheit(celsius):\n",
        "    \"\"\"\n",
        "    Converts Celsius to Fahrenheit.\n",
        "\n",
        "    Parameters:\n",
        "    celsius (float): Temperature in Celsius.\n",
        "\n",
        "    Returns:\n",
        "    float: Temperature in Fahrenheit.\n",
        "    \"\"\"\n",
        "    return (celsius * 9/5) + 32\n",
        "\n",
        "# List of temperatures in Celsius\n",
        "celsius_temps = [0, 10, 20, 30, 40]\n",
        "\n",
        "# Use map() to convert the list of temperatures to Fahrenheit\n",
        "fahrenheit_temps = list(map(celsius_to_fahrenheit, celsius_temps))\n",
        "\n",
        "print(\"Celsius temperatures:\", celsius_temps)\n",
        "print(\"Fahrenheit temperatures:\", fahrenheit_temps)\n"
      ],
      "metadata": {
        "colab": {
          "base_uri": "https://localhost:8080/"
        },
        "id": "0aWNGLRP81ge",
        "outputId": "e96d997a-4f36-4114-ef0a-232f8ee4339f"
      },
      "execution_count": 39,
      "outputs": [
        {
          "output_type": "stream",
          "name": "stdout",
          "text": [
            "Celsius temperatures: [0, 10, 20, 30, 40]\n",
            "Fahrenheit temperatures: [32.0, 50.0, 68.0, 86.0, 104.0]\n"
          ]
        }
      ]
    },
    {
      "cell_type": "markdown",
      "source": [
        "10. Create a Python program that uses `filter()` to remove all the vowels from a given string"
      ],
      "metadata": {
        "id": "WYBhZpft9AkG"
      }
    },
    {
      "cell_type": "code",
      "source": [
        "def is_not_vowel(char):\n",
        "    \"\"\"\n",
        "    Check if a character is not a vowel.\n",
        "\n",
        "    Parameters:\n",
        "    char (str): A single character.\n",
        "\n",
        "    Returns:\n",
        "    bool: True if the character is not a vowel, False otherwise.\n",
        "    \"\"\"\n",
        "    vowels = 'aeiouAEIOU'\n",
        "    return char not in vowels\n",
        "\n",
        "def remove_vowels(input_string):\n",
        "    \"\"\"\n",
        "    Remove all vowels from a given string using filter().\n",
        "\n",
        "    Parameters:\n",
        "    input_string (str): The string from which vowels will be removed.\n",
        "\n",
        "    Returns:\n",
        "    str: The string with all vowels removed.\n",
        "    \"\"\"\n",
        "    # Use filter() to remove vowels\n",
        "    filtered_chars = filter(is_not_vowel, input_string)\n",
        "\n",
        "    # Join the filtered characters into a new string\n",
        "    return ''.join(filtered_chars)\n",
        "\n",
        "# Example usage\n",
        "input_string = \"Hello, World!\"\n",
        "result = remove_vowels(input_string)\n",
        "print(\"Original string:\", input_string)\n",
        "print(\"String without vowels:\", result)\n"
      ],
      "metadata": {
        "colab": {
          "base_uri": "https://localhost:8080/"
        },
        "id": "tre1clh-9Fnd",
        "outputId": "3d1f3eb4-7e13-4f76-bb4b-c44e710cb73c"
      },
      "execution_count": 40,
      "outputs": [
        {
          "output_type": "stream",
          "name": "stdout",
          "text": [
            "Original string: Hello, World!\n",
            "String without vowels: Hll, Wrld!\n"
          ]
        }
      ]
    },
    {
      "cell_type": "markdown",
      "source": [
        "11) Imagine an accounting routine used in a book shop. It works on a list with sublists, which look like this:\n",
        "\n",
        "order number   book title and aothor                 quantity    price per item\n",
        "\n",
        "34587          learning python, mark lutz              4             40.95\n",
        "\n",
        "\n",
        "98762          programming python,mark lutz            5             56.80\n",
        "\n",
        "\n",
        "77226          head first python,paul barry            3             32.95\n",
        "\n",
        "\n",
        "88112          Einfuhrung in python 3, berndklein      3             24.99\n",
        "\n",
        "Write a Python program, which returns a list with 2-tuples. Each tuple consists of the order number and the\n",
        "product of the price per item and the quantity. The product should be increased by 10,- € if the value of the\n",
        "order is smaller than 100,00 €.\n",
        "\n",
        "Write a Python program using lambda and map."
      ],
      "metadata": {
        "id": "cXukgjsq9dTn"
      }
    },
    {
      "cell_type": "code",
      "source": [
        "def calculate_order_values(orders):\n",
        "    \"\"\"\n",
        "    Calculate the order values and adjust if below 100 EUR.\n",
        "\n",
        "    Parameters:\n",
        "    orders (list of lists): Each sublist contains [order_number, book_title_author, quantity, price_per_item]\n",
        "\n",
        "    Returns:\n",
        "    list of tuples: Each tuple contains (order_number, adjusted_product_value)\n",
        "    \"\"\"\n",
        "    # Define the lambda function to calculate the product and apply the adjustment\n",
        "    calculate_value = lambda order: (\n",
        "        order[0],\n",
        "        (order[2] * order[3]) + 10 if (order[2] * order[3]) < 100 else order[2] * order[3]\n",
        "    )\n",
        "\n",
        "    # Use map() to apply the lambda function to each sublist\n",
        "    result = list(map(calculate_value, orders))\n",
        "\n",
        "    return result\n",
        "\n",
        "# Example usage\n",
        "orders = [\n",
        "    [34587, 'learning python, mark lutz', 4, 40.95],\n",
        "    [98762, 'programming python, mark lutz', 5, 56.80],\n",
        "    [77226, 'head first python, paul barry', 3, 32.95],\n",
        "    [88112, 'Einfuhrung in python 3, bernd klein', 3, 24.99]\n",
        "]\n",
        "\n",
        "result = calculate_order_values(orders)\n",
        "print(\"Order values with adjustments:\", result)\n"
      ],
      "metadata": {
        "colab": {
          "base_uri": "https://localhost:8080/"
        },
        "id": "LVJpGVX-_4dO",
        "outputId": "a0ecad94-223a-499e-90da-068315bfd159"
      },
      "execution_count": 44,
      "outputs": [
        {
          "output_type": "stream",
          "name": "stdout",
          "text": [
            "Order values with adjustments: [(34587, 163.8), (98762, 284.0), (77226, 108.85000000000001), (88112, 84.97)]\n"
          ]
        }
      ]
    }
  ]
}